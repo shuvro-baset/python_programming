{
 "cells": [
  {
   "cell_type": "markdown",
   "metadata": {
    "pycharm": {
     "name": "#%% md\n"
    }
   },
   "source": [
    "\n",
    "# CSE111 LAB ASSIGNMENT 6"
   ]
  },
  {
   "cell_type": "markdown",
   "metadata": {
    "pycharm": {
     "name": "#%% md\n"
    }
   },
   "source": [
    "## Task 1\n",
    "\n",
    "Write a **Student** class to get the desired output as shown below.\n",
    "1. Create a Student class and a class variable called ID initialized with 0.\n",
    "2. Create a constructor that takes 4 parameters: name, department, age and cgpa.\n",
    "3. Write a **get_details()** method to represent all the details of a Student\n",
    "4. Write a class method **from_String()** that takes 1 parameter which includes name, department, age and cgpa all four attributes in string. \n",
    "\n",
    "**Write your code here for subtasks 1-6.**\\\n",
    "s1 = Student(\"Samin\", \"CSE\", 21, 3.91)\\\n",
    "s1.get_details()\\\n",
    "print(\"-----------------------\")\\\n",
    "s2 = Student(\"Fahim\", \"ECE\", 21, 3.85)\\\n",
    "s2.get_details()\\\n",
    "print(\"-----------------------\")\\\n",
    "s3 = Student(\"Tahura\", \"EEE\", 22, 3.01)\\\n",
    "s3.get_details()\\\n",
    "print(\"-----------------------\")\\\n",
    "s4 = Student.from_String(\"Sumaiya-BBA-23-3.96\")\\\n",
    "s4.get_details()\n",
    "###### Write the answer of subtask 5 here\n",
    "###### Write the answer of subtask 6 here\n",
    "###### You are not allowed to change the code above\n",
    "\n",
    "###### OUTPUT\n",
    "ID: 1\\\n",
    "Name: Samin\\\n",
    "Department: CSE\\\n",
    "Age: 21\\\n",
    "CGPA: 3.91\\\n",
    "$-----------------------$\\\n",
    "ID: 2\\\n",
    "Name: Fahim\\\n",
    "Department: ECE\\\n",
    "Age: 21\\\n",
    "CGPA: 3.85\\\n",
    "$-----------------------$\\\n",
    "ID: 3\\\n",
    "Name: Tahura\\\n",
    "Department: EEE\\\n",
    "Age: 22\\\n",
    "CGPA: 3.01\\\n",
    "$-----------------------$\\\n",
    "ID: 4\\\n",
    "Name: Sumaiya\\\n",
    "Department: BBA\\\n",
    "Age: 23\\\n",
    "CGPA: 3.96\n",
    "\n",
    "5. Explain the difference between a class variable and an instance variable. Print your answer at the very end of your code.\n",
    "6. What is the difference between an instance method and class method? Print your answer at the very end "
   ]
  },
  {
   "cell_type": "code",
   "execution_count": 51,
   "metadata": {
    "pycharm": {
     "name": "#%%\n"
    }
   },
   "outputs": [
    {
     "name": "stdout",
     "output_type": "stream",
     "text": [
      "ID: 1\n",
      "Name: Samin\n",
      "Department: CSE\n",
      "Age: 21\n",
      "CGPA: 3.91\n",
      "-----------------------\n",
      "ID: 2\n",
      "Name: Fahim\n",
      "Department: ECE\n",
      "Age: 21\n",
      "CGPA: 3.85\n",
      "-----------------------\n",
      "ID: 3\n",
      "Name: Tahura\n",
      "Department: EEE\n",
      "Age: 22\n",
      "CGPA: 3.01\n",
      "-----------------------\n",
      "ID: 4\n",
      "Name: Sumaiya\n",
      "Department: BBA\n",
      "Age: 23\n",
      "CGPA: 3.96\n"
     ]
    }
   ],
   "source": [
    "class Student:\n",
    "    iD=0\n",
    "    def __init__(sf, n, d, a, c):\n",
    "        sf.name=n\n",
    "        sf.dept=d\n",
    "        sf.age=a\n",
    "        sf.cgpa=c\n",
    "        Student.iD+=1\n",
    "    @classmethod\n",
    "    def from_String(cls, info):\n",
    "        n, d, a, c= info.split(\"-\")\n",
    "        obj= cls(n, d, a, c)\n",
    "        return obj\n",
    "    def get_details(sf):\n",
    "        print(f\"ID: {Student.iD}\\nName: {sf.name}\\nDepartment: {sf.dept}\\nAge: {sf.age}\\nCGPA: {sf.cgpa}\")\n",
    "s1 = Student(\"Samin\", \"CSE\", 21, 3.91)\n",
    "s1.get_details()\n",
    "print(\"-----------------------\")\n",
    "s2 = Student(\"Fahim\", \"ECE\", 21, 3.85)\n",
    "s2.get_details()\n",
    "print(\"-----------------------\")\n",
    "s3 = Student(\"Tahura\", \"EEE\", 22, 3.01)\n",
    "s3.get_details()\n",
    "print(\"-----------------------\")\n",
    "s4 = Student.from_String(\"Sumaiya-BBA-23-3.96\")\n",
    "s4.get_details()"
   ]
  },
  {
   "cell_type": "markdown",
   "metadata": {
    "pycharm": {
     "name": "#%% md\n"
    }
   },
   "source": [
    "## Task 2\n",
    "\n",
    "Write a class called **Dates** with the required constructor and methods.\n",
    "\n",
    "**Subtask:**\n",
    "1. Create a **class** called Dates and create the required **constructor**\n",
    "2. Create a **class method** called toDashDate() to replace the “/” from date to “-”.\n",
    "3. Create getDate() **method** to access variables.\n",
    "4. In the conditional statement it prints “Equal”. Explain why.\n",
    "\n",
    "**[You are not allowed to change the code below]**\n",
    "\n",
    "**Write your code here for subtasks 1-5**\n",
    "\n",
    "date1 = Dates(\"05-09-2020\")\\\n",
    "dateFromDB = \"05/09/2020\"\\\n",
    "date2= Dates.toDashDate(dateFromDB)\\\n",
    "if(date1.getDate() == date2.getDate()):\\\n",
    " print(\"Equal\")\\\n",
    "else:\\\n",
    " print(\"Unequal\")"
   ]
  },
  {
   "cell_type": "code",
   "execution_count": 48,
   "metadata": {
    "pycharm": {
     "name": "#%%\n"
    }
   },
   "outputs": [
    {
     "name": "stdout",
     "output_type": "stream",
     "text": [
      "Equal\n",
      "\n",
      "Equal is printed because both the dates are same and all the characters of the date are same since '/' was changed to '-'.The two given dates are actually the same day, same month and same year\n"
     ]
    }
   ],
   "source": [
    "class Dates:\n",
    "    def __init__(sf, d):\n",
    "        sf.date=d\n",
    "    @classmethod\n",
    "    def toDashDate(cs, d):\n",
    "        d= d.replace(\"/\",\"-\")\n",
    "        obj=cs(d)\n",
    "        return obj\n",
    "    def __eq__(sf, o):\n",
    "        if sf.date==o.date:\n",
    "            return True\n",
    "        else:\n",
    "            return False\n",
    "    def getDate(sf):\n",
    "        return sf.date\n",
    "date1 = Dates(\"05-09-2020\")\n",
    "dateFromDB = \"05/09/2020\"\n",
    "date2= Dates.toDashDate(dateFromDB)\n",
    "if(date1.getDate() == date2.getDate()):\n",
    "    print(\"Equal\")\n",
    "else:\n",
    "    print(\"Unequal\")\n",
    "print(\"\\nEqual is printed because both the dates are same and all the characters of the date are same since '/' was changed to '-'.The two given dates are actually the same day, same month and same year\")"
   ]
  },
  {
   "cell_type": "markdown",
   "metadata": {
    "pycharm": {
     "name": "#%% md\n"
    }
   },
   "source": [
    "## Task 3\n",
    "\n",
    "Implement the design of the **Passenger** class so that the following output is produced:\n",
    "The assumption is Bus base-fare is 450 taka. A passenger can carry upto 20 kg for free.\n",
    "50 taka will be added if bag weight is between 21 and 50 kg. 100 taka will be added if\n",
    "bag weight is greater than 50 kg.\\\n",
    "**[You are not allowed to change the code below]**\n",
    "\n",
    "###### Write your code here\n",
    "\n",
    "print(“Total Passenger:”, Passenger.count)\\\n",
    "p1 = Passenger(“Jack”)\\\n",
    "p1.set_bag_weight(90)\\\n",
    "p2 = Passenger(“Carol”)\\\n",
    "p2.set_bag_weight(10)\\\n",
    "p3 = Passenger(“Mike”)\\\n",
    "p3.set_bag_weight(25)\\\n",
    "print(\"=========================\")\\\n",
    "p1.printDetail()\\\n",
    "print(\"=========================\")\\\n",
    "p2.printDetail()\\\n",
    "print(\"=========================\")\\\n",
    "p3.printDetail()\\\n",
    "print(\"=========================\")\\\n",
    "print(“Total Passenger:”, Passenger.count)\n",
    "##### Output:\n",
    "Total Passenger: 0\\\n",
    "=========================\\\n",
    "Name: Jack\\\n",
    "Bus Fare: 550 taka\\\n",
    "=========================\\\n",
    "Name: Carol\\\n",
    "Bus Fare: 450 taka\\\n",
    "=========================\\\n",
    "Name: Mike\\\n",
    "Bus Fare: 500 taka\\\n",
    "=========================\\\n",
    "Total Passenger: 3"
   ]
  },
  {
   "cell_type": "code",
   "execution_count": 21,
   "metadata": {
    "pycharm": {
     "name": "#%%\n"
    }
   },
   "outputs": [
    {
     "name": "stdout",
     "output_type": "stream",
     "text": [
      "Total Passenger: 0\n",
      "=========================\n",
      "Name: Jack\n",
      "Bus Fare: 550 taka\n",
      "=========================\n",
      "Name: Carol\n",
      "Bus Fare: 450 taka\n",
      "=========================\n",
      "Name: Mike\n",
      "Bus Fare: 500 taka\n",
      "=========================\n",
      "Total Passenger: 3\n"
     ]
    }
   ],
   "source": [
    "class Passenger:\n",
    "    count=0\n",
    "    def __init__(sf, name):\n",
    "        sf.name=name\n",
    "        Passenger.count+=1\n",
    "    def set_bag_weight(sf, weight):\n",
    "        sf.weight=weight\n",
    "    def printDetail(sf):\n",
    "        if sf.weight<=20:\n",
    "            sf.fare=450\n",
    "        if sf.weight>20 and sf.weight<=50:\n",
    "            sf.fare=450+50\n",
    "        if sf.weight>50:\n",
    "            sf.fare=450+100\n",
    "        print(f\"Name: {sf.name}\\nBus Fare: {sf.fare} taka\")\n",
    "print(\"Total Passenger:\", Passenger.count)\n",
    "p1 = Passenger(\"Jack\")\n",
    "p1.set_bag_weight(90)\n",
    "p2 = Passenger(\"Carol\")\n",
    "p2.set_bag_weight(10)\n",
    "p3 = Passenger(\"Mike\")\n",
    "p3.set_bag_weight(25)\n",
    "print(\"=========================\")\n",
    "p1.printDetail()\n",
    "print(\"=========================\")\n",
    "p2.printDetail()\n",
    "print(\"=========================\")\n",
    "p3.printDetail()\n",
    "print(\"=========================\")\n",
    "print(\"Total Passenger:\", Passenger.count)"
   ]
  },
  {
   "cell_type": "markdown",
   "metadata": {
    "pycharm": {
     "name": "#%% md\n"
    }
   },
   "source": [
    "# Task 4\n",
    "Implement the design of the **Travel** class so that the following output is produced:\n",
    "\n",
    "**[You are not allowed to change the code below]**\n",
    "\n",
    "**Write your code here**\\\n",
    "print(“No. of Traveller =”, Travel.count)\\\n",
    "print(\"=======================\")\\\n",
    "t1 = Travel(\"Dhaka\",\"India\")\\\n",
    "print(t1.display_travel_info())\\\n",
    "print(\"=======================\")\\\n",
    "t2 = Travel(\"Kuala Lampur\",\"Dhaka\")\\\n",
    "t2.set_time(23)\\\n",
    "print(t2.display_travel_info())\\\n",
    "print(\"=======================\")\\\n",
    "t3 = Travel(\"Dhaka\",\"New_Zealand\")\\\n",
    "t3.set_time(15)\\\n",
    "t3.set_destination(\"Germany\")\\\n",
    "print(t3.display_travel_info())\\\n",
    "print(\"=======================\")\\\n",
    "t4 = Travel(\"Dhaka\",\"India\")\\\n",
    "t4.set_time(9)\\\n",
    "t4.set_source(\"Malaysia\")\\\n",
    "t4.set_destination(\"Canada\")\\\n",
    "print(t4.display_travel_info())\\\n",
    "print(\"=======================\")\\\n",
    "print(“No. of Traveller =”, Travel.coun\n",
    "\n",
    "##### Output\n",
    "No. of Traveller = 0\\\n",
    "=======================\\\n",
    "Source: Dhaka\\\n",
    "Destination:India\\\n",
    "Flight Time:1:00\\\n",
    "=======================\\\n",
    "Source: Kuala Lampur\\\n",
    "Destination:Dhaka\\\n",
    "Flight Time:23:00\\\n",
    "=======================\\\n",
    "Source: Dhaka\\\n",
    "Destination:Germany\\\n",
    "Flight Time:15:00\\\n",
    "=======================\\\n",
    "Source: Malaysia\\\n",
    "Destination:Canada\\\n",
    "Flight Time:9:00\\\n",
    "=======================\\\n",
    "No of Traveller = 4\n"
   ]
  },
  {
   "cell_type": "code",
   "execution_count": 49,
   "metadata": {
    "pycharm": {
     "name": "#%%\n"
    }
   },
   "outputs": [
    {
     "name": "stdout",
     "output_type": "stream",
     "text": [
      "No. of Traveller = 0\n",
      "=======================\n",
      "Source: Dhaka\n",
      "Destination: India\n",
      "Flight Time: 1:00\n",
      "=======================\n",
      "Source: Kuala Lampur\n",
      "Destination: Dhaka\n",
      "Flight Time: 23:00\n",
      "=======================\n",
      "Source: Dhaka\n",
      "Destination: Germany\n",
      "Flight Time: 15:00\n",
      "=======================\n",
      "Source: Malaysia\n",
      "Destination: Canada\n",
      "Flight Time: 9:00\n",
      "=======================\n",
      "No. of Traveller = 4\n"
     ]
    }
   ],
   "source": [
    "class Travel:\n",
    "    count=0\n",
    "    def __init__(sf, s, d, t=\"1\"):\n",
    "        sf.__source= s\n",
    "        sf.__dest= d\n",
    "        sf.__time= t\n",
    "        Travel.count+=1\n",
    "    def set_destination(sf, d):\n",
    "        sf.__dest=d\n",
    "    def set_source(sf, s):\n",
    "        sf.__source=s\n",
    "    def set_time(sf, t):\n",
    "        sf.__time=t\n",
    "    def display_travel_info(sf):\n",
    "        return (f\"Source: {sf.__source}\\nDestination: {sf.__dest}\\nFlight Time: {sf.__time}:00\")\n",
    "print(\"No. of Traveller =\", Travel.count)\n",
    "print(\"=======================\")\n",
    "t1 = Travel(\"Dhaka\",\"India\")\n",
    "print(t1.display_travel_info())\n",
    "print(\"=======================\")\n",
    "t2 = Travel(\"Kuala Lampur\",\"Dhaka\")\n",
    "t2.set_time(23)\n",
    "print(t2.display_travel_info())\n",
    "print(\"=======================\")\n",
    "t3 = Travel(\"Dhaka\",\"New_Zealand\")\n",
    "t3.set_time(15)\n",
    "t3.set_destination(\"Germany\")\n",
    "print(t3.display_travel_info())\n",
    "print(\"=======================\")\n",
    "t4 = Travel(\"Dhaka\",\"India\")\n",
    "t4.set_time(9)\n",
    "t4.set_source(\"Malaysia\")\n",
    "t4.set_destination(\"Canada\")\n",
    "print(t4.display_travel_info())\n",
    "print(\"=======================\")\n",
    "print(\"No. of Traveller =\", Travel.count)"
   ]
  },
  {
   "cell_type": "markdown",
   "metadata": {
    "pycharm": {
     "name": "#%% md\n"
    }
   },
   "source": [
    "## Task 5\n",
    "Implement the design of the Fruit class so that the following output is produced\n",
    "\n",
    "**[You are not allowed to change the code below]**\n",
    "\n",
    "###### Write your code here\n",
    "apples = Fruit(\"Apple\", 3);\\\n",
    "pears = Fruit(\"Pear\", 4);\\\n",
    "print(apples.name, apples.count)\\\n",
    "print(pears.name,pears.count)\\\n",
    "print(\"Total number of fruits\", Fruit.fruitCount)\\\n",
    "Fruit.saySomethingGood()\\\n",
    "Fruit.resetcount()\\\n",
    "print(\"Total number of fruits\", Fruit.fruitCount)\n",
    "##### Output\n",
    "Apple 3\\\n",
    "Pear 4\\\n",
    "Total number of fruits 7\\\n",
    "Fruits are good for health\\\n",
    "Total number of fruits 0"
   ]
  },
  {
   "cell_type": "code",
   "execution_count": 34,
   "metadata": {
    "pycharm": {
     "name": "#%%\n"
    }
   },
   "outputs": [
    {
     "name": "stdout",
     "output_type": "stream",
     "text": [
      "Apple 3\n",
      "Pear 4\n",
      "Total number of fruits 7\n",
      "Fruits are good for health\n",
      "Total number of fruits 0\n"
     ]
    }
   ],
   "source": [
    "class Fruit:\n",
    "    fruitCount=0\n",
    "    def __init__(sf, ne, cot):\n",
    "        sf.name=ne\n",
    "        sf.count=cot\n",
    "        Fruit.fruitCount+=cot\n",
    "    @classmethod\n",
    "    def saySomethingGood(cls):\n",
    "        print(\"Fruits are good for health\")\n",
    "    @classmethod\n",
    "    def resetcount(cls):\n",
    "        cls.fruitCount=0\n",
    "apples = Fruit(\"Apple\", 3);\n",
    "pears = Fruit(\"Pear\", 4);\n",
    "print(apples.name, apples.count)\n",
    "print(pears.name,pears.count)\n",
    "print(\"Total number of fruits\", Fruit.fruitCount)\n",
    "Fruit.saySomethingGood()\n",
    "Fruit.resetcount()\n",
    "print(\"Total number of fruits\", Fruit.fruitCount)"
   ]
  },
  {
   "cell_type": "markdown",
   "metadata": {
    "pycharm": {
     "name": "#%% md\n"
    }
   },
   "source": [
    "## Task 6\n",
    "Design Cat class for the following code to get the output as shown. You have already solved this problem in assignment 4 using constructor overloading. Now, solve this again but this time DO NOT USE CONSTRUCTOR OVERLOADING.\n",
    "**Hint:** You will have to use classmethods.\n",
    "\n",
    "**[You are not allowed to change the code below]**\n",
    "\n",
    "**Write your code here**\n",
    "\n",
    "print(\"Total number of cats:\", Cat.Number_of_cats)\\\n",
    "c1 = Cat.no_parameter()\\\n",
    "c2 = Cat.first_parameter(\"Black\")\\\n",
    "c3 = Cat(\"Brown\", \"jumping\")\\\n",
    "c4 = Cat(\"Red\", \"purring\")\\\n",
    "c5 = Cat.second_parameter(\"playing\")\\\n",
    "print(\"=======================\")\\\n",
    "c1.printCat()\\\n",
    "c2.printCat()\\\n",
    "c3.printCat()\\\n",
    "c4.printCat()\\\n",
    "c5.printCat()\\\n",
    "c1.changeColor(\"Blue\")\\\n",
    "c3.changeColor(\"Purple\")\\\n",
    "c1.printCat()\\\n",
    "c3.printCat()\\\n",
    "print(\"=======================\")\\\n",
    "print(\"Total number of cats:\", Cat.Number_of_cats)\\\n",
    "**Output:**\\\n",
    "Total number of cats: 0\\\n",
    "=======================\\\n",
    "White cat is sitting\\\n",
    "Black cat is sitting\\\n",
    "Brown cat is jumping\\\n",
    "Red cat is purring\\\n",
    "Grey cat is playing\\\n",
    "Blue cat is sitting\\\n",
    "Purple cat is jumping\\\n",
    "=======================\\\n",
    "Total number of cats: 5\n"
   ]
  },
  {
   "cell_type": "code",
   "execution_count": 39,
   "metadata": {
    "pycharm": {
     "name": "#%%\n"
    }
   },
   "outputs": [
    {
     "name": "stdout",
     "output_type": "stream",
     "text": [
      "Total number of cats: 0\n",
      "=======================\n",
      "White cat is sitting\n",
      "Black cat is sitting\n",
      "Brown cat is jumping\n",
      "Red cat is purring\n",
      "Grey cat is playing\n",
      "Blue cat is sitting\n",
      "Purple cat is jumping\n",
      "=======================\n",
      "Total number of cats: 5\n"
     ]
    }
   ],
   "source": [
    "class Cat:\n",
    "    Number_of_cats=0\n",
    "    def __init__(sf, clor, work):\n",
    "        sf.__color=clor\n",
    "        sf.__work=work\n",
    "        Cat.Number_of_cats+=1\n",
    "    def changeColor(sf, clor):\n",
    "        sf.__color=clor\n",
    "    def printCat(sf):\n",
    "        print(f\"{sf.__color} cat is {sf.__work}\")\n",
    "    @classmethod\n",
    "    def no_parameter(cls):\n",
    "        clor=\"White\"\n",
    "        work=\"sitting\"\n",
    "        obj=Cat(clor, work)\n",
    "        return obj\n",
    "    @classmethod\n",
    "    def first_parameter(cls, clor):\n",
    "        work=\"sitting\"\n",
    "        obj=Cat(clor, work)\n",
    "        return obj\n",
    "    @classmethod\n",
    "    def second_parameter(cls, work):\n",
    "        clor=\"Grey\"\n",
    "        obj=Cat(clor, work)\n",
    "        return obj\n",
    "print(\"Total number of cats:\", Cat.Number_of_cats)\n",
    "c1 = Cat.no_parameter()\n",
    "c2 = Cat.first_parameter(\"Black\")\n",
    "c3 = Cat(\"Brown\", \"jumping\")\n",
    "c4 = Cat(\"Red\", \"purring\")\n",
    "c5 = Cat.second_parameter(\"playing\")\n",
    "print(\"=======================\")\n",
    "c1.printCat()\n",
    "c2.printCat()\n",
    "c3.printCat()\n",
    "c4.printCat()\n",
    "c5.printCat()\n",
    "c1.changeColor(\"Blue\")\n",
    "c3.changeColor(\"Purple\")\n",
    "c1.printCat()\n",
    "c3.printCat()\n",
    "print(\"=======================\")\n",
    "print(\"Total number of cats:\", Cat.Number_of_cats)"
   ]
  },
  {
   "cell_type": "markdown",
   "metadata": {
    "pycharm": {
     "name": "#%% md\n"
    }
   },
   "source": [
    "## Task 7\n",
    "Write a Cylinder class to get the desired output as shown below.\n",
    "1. You will have to create a Cylinder class.\n",
    "2. You will have to create 2 class variables.\n",
    "3. Create a required constructor.\n",
    "4. Write 2 class methods:\n",
    "   * One that takes the height first and then the radius and then swaps\n",
    "   * One that takes a string where the radius and height values are separated with a hyphen.\n",
    "\n",
    "Write 2 static methods:\n",
    " \n",
    "   * One that calculates the area of a whole cylinder (formula: 2πr 2 + 2πrh)\n",
    "   * Another that calculates the volume of a cylinder (formula: πr 2h)'\n",
    "\n",
    "** Observe the output values carefully to understand how the radius and height values\n",
    "are changing.\n",
    "\n",
    "**[You are not allowed to change the code below]**\n",
    "\n",
    "**Write your code here**\n",
    "\n",
    "c1 = Cylinder(0,0)\\\n",
    "Cylinder.area(c1.radius,c1.height)\\\n",
    "Cylinder.volume(c1.radius,c1.height)\\\n",
    "print(\"===============================\")\\\n",
    "c2 = Cylinder.swap(8,3)\\\n",
    "c2.area(c2.radius,c2.height)\\\n",
    "c2.volume(c2.radius,c2.height)\\\n",
    "print(\"===============================\")\\\n",
    "c3 = Cylinder.changeFormat(\"7-13\")\\\n",
    "c3.area(c3.radius,c3.height)\\\n",
    "c3.volume(c3.radius,c3.height)\\\n",
    "print(\"===============================\")\\\n",
    "Cylinder(0.3,5.56).area(Cylinder.radius,Cylinder.height)\\\n",
    "print(\"===============================\")\\\n",
    "Cylinder(3,5).volume(Cylinder.radius,Cylinder.height))\\\n",
    "**Output:**\\\n",
    "Default radius=5 and height=18.\\\n",
    "Updated: radius=0 and height=0.\\\n",
    "Area: 0.0\\\n",
    "Volume: 0.0\\\n",
    "===============================\\\n",
    "Default radius=0 and height=0.\\\n",
    "Updated: radius=3 and height=8.\\\n",
    "Area: 207.34511513692635\\\n",
    "Volume: 226.1946710584651\\\n",
    "===============================\\\n",
    "Default radius=3 and height=8.\\\n",
    "Updated: radius=7.0 and height=13.0.\\\n",
    "Area: 879.645943005142\\\n",
    "Volume: 2001.1945203366981\\\n",
    "===============================\\\n",
    "Default radius=7.0 and height=13.0.\\\n",
    "Updated: radius=0.3 and height=5.56.\\\n",
    "Area: 11.045839770021713\\\n",
    "===============================\\\n",
    "Default radius=0.3 and height=5.56.\\\n",
    "Updated: radius=3 and height=5.\\\n",
    "Volume: 141.3716694115407"
   ]
  },
  {
   "cell_type": "code",
   "execution_count": 44,
   "metadata": {
    "scrolled": true,
    "pycharm": {
     "name": "#%%\n"
    }
   },
   "outputs": [
    {
     "name": "stdout",
     "output_type": "stream",
     "text": [
      "Default radius= 5 and height= 18\n",
      "Updated: radius= 0 and height= 0\n",
      "Area: 0.0\n",
      "Volume: 0.0\n",
      "===============================\n",
      "Default radius= 0 and height= 0\n",
      "Updated: radius= 3 and height= 8\n",
      "Area: 207.34511513692635\n",
      "Volume: 226.1946710584651\n",
      "===============================\n",
      "Default radius= 3 and height= 8\n",
      "Updated: radius= 7.0 and height= 13.0\n",
      "Area: 879.645943005142\n",
      "Volume: 2001.1945203366981\n",
      "===============================\n",
      "Default radius= 7.0 and height= 13.0\n",
      "Updated: radius= 0.3 and height= 5.56\n",
      "Area: 11.045839770021713\n",
      "===============================\n",
      "Default radius= 0.3 and height= 5.56\n",
      "Updated: radius= 3 and height= 5\n",
      "Volume: 141.3716694115407\n"
     ]
    }
   ],
   "source": [
    "import math\n",
    "class Cylinder:\n",
    "    radius=5\n",
    "    height=18\n",
    "    def __init__(sf, r, h):\n",
    "        print(\"Default radius=\", Cylinder.radius, \"and height=\", Cylinder.height)\n",
    "        Cylinder.radius=r\n",
    "        Cylinder.height=h\n",
    "        print(\"Updated: radius=\", Cylinder.radius, \"and height=\", Cylinder.height)\n",
    "    @classmethod\n",
    "    def swap(cls, h, r):\n",
    "        obj= Cylinder(r, h)\n",
    "        return obj\n",
    "    @classmethod\n",
    "    def changeFormat(cls, info):\n",
    "        r, h= info.split(\"-\")\n",
    "        r= float(r)\n",
    "        h= float(h)\n",
    "        obj= Cylinder(r, h)\n",
    "        return obj\n",
    "    @staticmethod\n",
    "    def area(r, h):\n",
    "        area= (2*math.pi*pow(r,2))+(2*math.pi*r*h)\n",
    "        print(\"Area:\",area)\n",
    "    @staticmethod\n",
    "    def volume(r, h):\n",
    "        volume= math.pi*pow(r, 2)*h\n",
    "        print(\"Volume:\",volume)\n",
    "c1 = Cylinder(0,0)\n",
    "Cylinder.area(c1.radius,c1.height)\n",
    "Cylinder.volume(c1.radius,c1.height)\n",
    "print(\"===============================\")\n",
    "c2 = Cylinder.swap(8,3)\n",
    "c2.area(c2.radius,c2.height)\n",
    "c2.volume(c2.radius,c2.height)\n",
    "print(\"===============================\")\n",
    "c3 = Cylinder.changeFormat(\"7-13\")\n",
    "c3.area(c3.radius,c3.height)\n",
    "c3.volume(c3.radius,c3.height)\n",
    "print(\"===============================\")\n",
    "Cylinder(0.3,5.56).area(Cylinder.radius,Cylinder.height)\n",
    "print(\"===============================\")\n",
    "Cylinder(3,5).volume(Cylinder.radius,Cylinder.height)"
   ]
  }
 ],
 "metadata": {
  "kernelspec": {
   "display_name": "Python 3",
   "language": "python",
   "name": "python3"
  },
  "language_info": {
   "codemirror_mode": {
    "name": "ipython",
    "version": 3
   },
   "file_extension": ".py",
   "mimetype": "text/x-python",
   "name": "python",
   "nbconvert_exporter": "python",
   "pygments_lexer": "ipython3",
   "version": "3.7.6"
  }
 },
 "nbformat": 4,
 "nbformat_minor": 2
}
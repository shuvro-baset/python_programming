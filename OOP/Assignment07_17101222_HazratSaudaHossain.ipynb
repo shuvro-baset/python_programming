{
 "cells": [
  {
   "cell_type": "markdown",
   "metadata": {},
   "source": [
    "# Tsak 1"
   ]
  },
  {
   "cell_type": "code",
   "execution_count": 4,
   "metadata": {},
   "outputs": [
    {
     "name": "stdout",
     "output_type": "stream",
     "text": [
      "Name: Default Department: BBA\n",
      "Name: Humpty Dumpty Department: BBA\n",
      "Name: Little Bo Peep Department: BBA\n"
     ]
    }
   ],
   "source": [
    "class Student:\n",
    "    def __init__(self, n='Just a student', dep='nothing'):\n",
    "        self.__name = n\n",
    "        self.__department = dep\n",
    "    def set_department(self, dep):\n",
    "        self.__department = dep\n",
    "    def get_name(self):\n",
    "        return self.__name\n",
    "    def set_name(self,n):\n",
    "        self.__name = n\n",
    "    def __str__(self):\n",
    "        return 'Name: '+self.__name+' Department: '+self.__department\n",
    "class BBA_Student(Student):\n",
    "    def __init__(self, name=\"Default\"):\n",
    "        dept= \"BBA\"\n",
    "        super().__init__(name, dept)\n",
    "        super().__str__()\n",
    "\n",
    "print(BBA_Student())\n",
    "print(BBA_Student('Humpty Dumpty'))\n",
    "print(BBA_Student('Little Bo Peep'))"
   ]
  },
  {
   "cell_type": "markdown",
   "metadata": {},
   "source": [
    "# Task 2"
   ]
  },
  {
   "cell_type": "code",
   "execution_count": 8,
   "metadata": {},
   "outputs": [
    {
     "name": "stdout",
     "output_type": "stream",
     "text": [
      "Part 1\n",
      "------\n",
      "(0 , 0)\n",
      "(0 , 1)\n",
      "(-1 , 1)\n",
      "(-1 , 0)\n",
      "(0 , 0)\n",
      "------\n",
      "Part 2\n",
      "------\n",
      "(0 , 0)\n",
      "(-1 , -1)\n",
      "False\n",
      "True\n"
     ]
    }
   ],
   "source": [
    "class Vehicle:\n",
    "    def __init__(self):\n",
    "        self.a = 0\n",
    "        self.b = 0\n",
    "    def moveUp(self):\n",
    "        self.b+=1\n",
    "    def moveDown(self):\n",
    "        self.b-=1\n",
    "    def moveRight(self):\n",
    "        self.a+=1\n",
    "    def moveLeft(self):\n",
    "        self.a-=1\n",
    "    def __str__(self):\n",
    "        return '('+str(self.a)+' , '+str(self.b)+')'\n",
    "class Vehicle2010(Vehicle):\n",
    "    def __init__(self):\n",
    "        super().__init__()\n",
    "        \n",
    "    def moveUpperRight(self):\n",
    "        super().moveUp()\n",
    "        super().moveRight()\n",
    "        \n",
    "    def moveLowerLeft(self): \n",
    "        super().moveDown()\n",
    "        super().moveLeft()\n",
    "        \n",
    "    def equals(self,other):\n",
    "        if self.a == other.a and self.b == other.b:\n",
    "            return True\n",
    "        else:\n",
    "            return False\n",
    "print('Part 1')\n",
    "print('------')\n",
    "car = Vehicle()\n",
    "print(car)\n",
    "car.moveUp()\n",
    "print(car)\n",
    "car.moveLeft()\n",
    "print(car)\n",
    "car.moveDown()\n",
    "print(car)\n",
    "car.moveRight()\n",
    "print(car)\n",
    "print('------')\n",
    "print('Part 2')\n",
    "print('------')\n",
    "car1 = Vehicle2010()\n",
    "print(car1)\n",
    "car1.moveLowerLeft()\n",
    "print(car1)\n",
    "car2 = Vehicle2010()\n",
    "car2.moveLeft()\n",
    "print(car1.equals(car2))\n",
    "car2.moveDown()\n",
    "print(car1.equals(car2))"
   ]
  },
  {
   "cell_type": "markdown",
   "metadata": {},
   "source": [
    "# Task 3"
   ]
  },
  {
   "cell_type": "code",
   "execution_count": 15,
   "metadata": {
    "scrolled": true
   },
   "outputs": [
    {
     "name": "stdout",
     "output_type": "stream",
     "text": [
      "Cricket Tournament Name: Default\n",
      "Number of Teams: 0\n",
      "Type: No type\n",
      "-----------------------\n",
      "Cricket Tournament Name: IPL\n",
      "Number of Teams: 10\n",
      "Type: t20\n",
      "-----------------------\n",
      "Tennis Tournament Name: Roland Garros\n",
      "Number of Teams: 128\n"
     ]
    }
   ],
   "source": [
    "class Tournament:\n",
    "    def __init__(self,n='Default'):\n",
    "        self.__name = n\n",
    "    def set_name(self,n):\n",
    "        self.__name = n\n",
    "    def get_name(self):\n",
    "        return self.__name\n",
    "class Cricket_Tournament(Tournament):\n",
    "    def __init__(self, n=\"Default\", t=0, ty=\"No type\"):\n",
    "        super().set_name(na)\n",
    "        self.team=t\n",
    "        self.type=ty\n",
    "    def detail(self):\n",
    "        return f\"Cricket Tournament Name: {super().get_name()}\\nNumber of Teams: {self.team}\\nType: {self.type}\"\n",
    "class Tennis_Tournament(Cricket_Tournament):\n",
    "    def detail(self):\n",
    "        return f\"Tennis Tournament Name: {super().get_name()}\\nNumber of Teams: {self.team}\"\n",
    "CT1 = Cricket_Tournament()\n",
    "print(ct1.detail())\n",
    "print(\"-----------------------\")\n",
    "CT2 = Cricket_Tournament(\"IPL\",10,\"t20\")\n",
    "print(ct2.detail())\n",
    "print(\"-----------------------\")\n",
    "TT = Tennis_Tournament(\"Roland Garros\",128)\n",
    "print(tt.detail())"
   ]
  },
  {
   "cell_type": "markdown",
   "metadata": {},
   "source": [
    "# Task 4"
   ]
  },
  {
   "cell_type": "code",
   "execution_count": 16,
   "metadata": {},
   "outputs": [
    {
     "name": "stdout",
     "output_type": "stream",
     "text": [
      "ID: 1 Title: The Alchemist Price: 500\n",
      "ISBN: 97806 Publisher: HarperCollins\n",
      "-----------------------\n",
      "ID: 2 Title: Shotto Price: 300\n",
      "Band: Warfaze Duration: 50minutes\n",
      "Genre: Hard Rock\n"
     ]
    }
   ],
   "source": [
    "class Product:\n",
    "    def __init__(self,i, t, p):\n",
    "        self.__id = i\n",
    "        self. __title = t\n",
    "        self. __price = p\n",
    "    def get_id_title_price(self):\n",
    "        return \"ID: \"+str(self.__id)+\" Title: \"+self.__title+\" Price: \"+str(self.__price)\n",
    "class Book(Product):\n",
    "    def __init__(self, i, t, p, isb, public):\n",
    "        super().__init__(i, t, p)\n",
    "        self.__isbn= isb\n",
    "        self.__publisher=public\n",
    "    def printDetail(self):\n",
    "        return f\"{super().get_id_title_price()}\\nISBN: {self.__isbn} Publisher: {self.__publisher}\"\n",
    "class CD(Product):\n",
    "    def __init__(self, i, t, p, b, d, g):\n",
    "        super().__init__(i, t, p)\n",
    "        self.__band=b\n",
    "        self.__duration=d\n",
    "        self.__genre=g\n",
    "    def printDetail(self):\n",
    "        return f\"{super().get_id_title_price()}\\nBand: {self.__band} Duration: {self.__duration}minutes\\nGenre: {self.__genre}\"\n",
    "book = Book(1,\"The Alchemist\",500,\"97806\",\"HarperCollins\")\n",
    "print(book.printDetail())\n",
    "print(\"-----------------------\")\n",
    "cd = CD(2,\"Shotto\",300,\"Warfaze\",50,\"Hard Rock\")\n",
    "print(cd.printDetail())"
   ]
  },
  {
   "cell_type": "markdown",
   "metadata": {},
   "source": [
    "# Task 5"
   ]
  },
  {
   "cell_type": "code",
   "execution_count": 18,
   "metadata": {},
   "outputs": [
    {
     "name": "stdout",
     "output_type": "stream",
     "text": [
      "Animal does not make sound\n",
      "meow\n",
      "bark\n"
     ]
    }
   ],
   "source": [
    "class Animal:\n",
    "    def __init__(self,so):\n",
    "        self.__sound = so\n",
    "    def makeSound(self):\n",
    "        return self.__sound\n",
    "\n",
    "class Printer:\n",
    "    def printSound(self, b):\n",
    "        print(b.makeSound())\n",
    "class Cat(Animal):\n",
    "    pass\n",
    "class Dog(Animal):\n",
    "    pass\n",
    "d1 = Dog('bark')\n",
    "c1 = Cat('meow')\n",
    "a1 = Animal('Animal does not make sound.')\n",
    "pr = Printer()\n",
    "pr.printSound(a1)\n",
    "pr.printSound(c1)\n",
    "pr.printSound(d1)"
   ]
  },
  {
   "cell_type": "markdown",
   "metadata": {},
   "source": [
    "# Task 6"
   ]
  },
  {
   "cell_type": "code",
   "execution_count": 20,
   "metadata": {},
   "outputs": [
    {
     "name": "stdout",
     "output_type": "stream",
     "text": [
      "Shape name: Default\n",
      "Height: 0,Base: 0\n",
      "Area: 0.0\n",
      "--------------------------\n",
      "Shape name: Triangle\n",
      "Height: 10,Base: 5\n",
      "Area: 25.0\n",
      "---------------------------\n",
      "Shape name: Trapezoid\n",
      "Height: 10,Base: 6, Side_A: 4\n",
      "Area: 50.0\n"
     ]
    }
   ],
   "source": [
    "class Shape:\n",
    "    def __init__(self, n='Default', h=0, b=0):\n",
    "        self.area = 0\n",
    "        self.name = n\n",
    "        self.height = h\n",
    "        self.base = b\n",
    "    def get_height_base(self):\n",
    "        return \"Height: \"+str(self.height)+\",Base: \"+str(self.base)\n",
    "class trapezoid(Shape):\n",
    "    def __init__(self, n, h, b, s):\n",
    "        super().__init__(n, h, b)\n",
    "        self.side=s\n",
    "    def calcArea(self):\n",
    "        self.area= ((self.base+self.side)/2)*self.height\n",
    "    def printDetail(self):\n",
    "        return f\"Shape name: {self.name}\\n{super().get_height_base()}, Side_A: {self.side}\\nArea: {float(self.area)}\"\n",
    "class triangle(Shape):\n",
    "    def calcArea(self):\n",
    "        self.area= (self.base*self.height)/2\n",
    "    def printDetail(self):\n",
    "        return f\"Shape name: {self.name}\\n{super().get_height_base()}\\nArea: {float(self.area)}\"\n",
    "tri_default = triangle()\n",
    "tri_default.calcArea()\n",
    "print(tri_default.printDetail())\n",
    "print('--------------------------')\n",
    "tri = triangle('Triangle', 10, 5)\n",
    "tri.calcArea()\n",
    "print(tri.printDetail())\n",
    "print('---------------------------')\n",
    "trap = trapezoid('Trapezoid', 10, 6, 4)\n",
    "trap.calcArea()\n",
    "print(trap.printDetail())"
   ]
  },
  {
   "cell_type": "markdown",
   "metadata": {},
   "source": [
    "# Task 7"
   ]
  },
  {
   "cell_type": "code",
   "execution_count": 22,
   "metadata": {},
   "outputs": [
    {
     "name": "stdout",
     "output_type": "stream",
     "text": [
      "Name: Ronaldo, Team Name: Juventus\n",
      "Team Role: Striker\n",
      "Total Goal: 25, Total Played: 32\n",
      "Goal Ratio: 0.78125\n",
      "Match Earning: 25320K\n",
      "------------------------------------------\n",
      "Name: Zidane, Team Name: Real Madrid\n",
      "Team Role: Manager\n",
      "Total Win: 25\n",
      "Match Earning: 25000K\n"
     ]
    }
   ],
   "source": [
    "class Football:\n",
    "    def __init__(self, team, n, role):\n",
    "        self.__team = team\n",
    "        self.__name = n\n",
    "        self.role = role\n",
    "        self.earning_per_match = 0\n",
    "    def get_name_team(self):\n",
    "        return 'Name: '+self.__name+', Team Name: ' +self.__team\n",
    "class Manager(Football):\n",
    "    def __init__(self, team, n, role, win):\n",
    "        super().__init__(team, n, role)\n",
    "        self.__wins=win\n",
    "        self.earning_per_match= (self.__wins*1000)\n",
    "    def print_details(self):\n",
    "        print(f\"{super().get_name_team()}\\nTeam Role: {self.role}\\nTotal Win: {self.__wins}\\nMatch Earning: {self.earning_per_match}K\")\n",
    "class Player(Football):\n",
    "    def __init__(self, team, n, role, gl, ply):\n",
    "        super().__init__(team, n, role)\n",
    "        self.__goal=g\n",
    "        self.__play=p\n",
    "        self.earning_per_match= (self.__goal*1000) + (self.__play*10)\n",
    "    def calculate_ratio(self):\n",
    "        self.__goalratio=self.__goal/self.__play\n",
    "    def print_details(self):\n",
    "        print(f\"{super().get_name_team()}\\nTeam Role: {self.role}\\nTotal Goal: {self.__goal}, Total Played: {self.__play}\\nGoal Ratio: {self.__goalratio}\\nMatch Earning: {self.earning_per_match}K\")\n",
    "player_one = Player('Juventus', 'Ronaldo', 'Striker', 25, 32)\n",
    "player_one.calculate_ratio()\n",
    "player_one.print_details()\n",
    "print('------------------------------------------')\n",
    "manager_one = Manager('Real Madrid', 'Zidane', 'Manager', 25)\n",
    "manager_one.print_details()"
   ]
  }
 ],
 "metadata": {
  "kernelspec": {
   "display_name": "Python 3",
   "language": "python",
   "name": "python3"
  },
  "language_info": {
   "codemirror_mode": {
    "name": "ipython",
    "version": 3
   },
   "file_extension": ".py",
   "mimetype": "text/x-python",
   "name": "python",
   "nbconvert_exporter": "python",
   "pygments_lexer": "ipython3",
   "version": "3.7.6"
  }
 },
 "nbformat": 4,
 "nbformat_minor": 4
}
